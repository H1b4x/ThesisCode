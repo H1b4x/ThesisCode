{
 "cells": [
  {
   "cell_type": "code",
   "execution_count": 4,
   "id": "24c66e74",
   "metadata": {},
   "outputs": [
    {
     "name": "stdout",
     "output_type": "stream",
     "text": [
      "Split complete:\n",
      "Training: 10309824 rows\n",
      "Evaluation: 4418497 rows\n"
     ]
    }
   ],
   "source": [
    "import pandas as pd\n",
    "\n",
    "# Load\n",
    "df = pd.read_parquet(\"/home/hajjohn1/bachelors-thesis/data/train.parquet\")\n",
    "split_idx = int(len(df) * 0.7)\n",
    "\n",
    "# Split dataset\n",
    "train_df = df.iloc[:split_idx]\n",
    "eval_df = df.iloc[split_idx:]\n",
    "\n",
    "# Save splits\n",
    "train_df.to_parquet(\"/home/hajjohn1/bachelors-thesis/data/training.parquet\", index=False)\n",
    "eval_df.to_parquet(\"/home/hajjohn1/bachelors-thesis/data/evaluation.parquet\", index=False)\n",
    "\n",
    "print(\"Split complete:\")\n",
    "print(f\"Training: {len(train_df)} rows\")\n",
    "print(f\"Evaluation: {len(eval_df)} rows\")"
   ]
  }
 ],
 "metadata": {
  "kernelspec": {
   "display_name": "Python (anomaly-detection)",
   "language": "python",
   "name": "anomaly-detection"
  }
 },
 "nbformat": 4,
 "nbformat_minor": 5
}
